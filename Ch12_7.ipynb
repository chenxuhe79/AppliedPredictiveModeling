{
 "cells": [
  {
   "cell_type": "markdown",
   "id": "7ad01ccb-7c18-4720-9ca9-1eb9d37328d8",
   "metadata": {},
   "source": [
    "## Chapter 12: Discriminant Analysis and Other Linear Classification Models"
   ]
  },
  {
   "cell_type": "code",
   "execution_count": 1,
   "id": "6028bd74-a9cb-4f73-8812-cc035d747bb7",
   "metadata": {
    "tags": []
   },
   "outputs": [
    {
     "data": {
      "text/plain": [
       "<Figure size 640x480 with 0 Axes>"
      ]
     },
     "metadata": {},
     "output_type": "display_data"
    }
   ],
   "source": [
    "from rpy2 import robjects\n",
    "from rpy2.robjects.packages import importr, data\n",
    "import os\n",
    "import pyreadr\n",
    "import pandas as pd\n",
    "import numpy as np\n",
    "import matplotlib.pyplot as plt\n",
    "import seaborn as sns\n",
    "from datetime import datetime\n",
    "\n",
    "from sklearn.preprocessing import OneHotEncoder\n",
    "\n",
    "plt.rcParams['axes.grid'] = True\n",
    "plt.gray()\n",
    "\n",
    "%matplotlib inline\n",
    "pd.set_option('mode.chained_assignment',None)"
   ]
  },
  {
   "cell_type": "code",
   "execution_count": 2,
   "id": "9f06a69f-801b-4b6b-b1d9-e2b6f8ae85ed",
   "metadata": {
    "tags": []
   },
   "outputs": [
    {
     "name": "stdout",
     "output_type": "stream",
     "text": [
      "True\n"
     ]
    },
    {
     "data": {
      "text/plain": [
       "True"
      ]
     },
     "execution_count": 2,
     "metadata": {},
     "output_type": "execute_result"
    }
   ],
   "source": [
    "base = importr('base')\n",
    "set_seed = robjects.r(\"set.seed\")\n",
    "APM = importr('AppliedPredictiveModeling')\n",
    "APMdatafolder = os.path.expanduser(\"~/Documents/dataset/AppliedPredictiveModeling/data\")\n",
    "print(os.path.isdir(APMdatafolder))\n",
    "unimelbdatafolder = os.path.expanduser(\"~/Documents/dataset/unimelb\")\n",
    "os.path.isdir(unimelbdatafolder)"
   ]
  },
  {
   "cell_type": "code",
   "execution_count": 3,
   "id": "89c22b42-8e34-4612-9075-c7dfadf17808",
   "metadata": {
    "tags": []
   },
   "outputs": [],
   "source": [
    "traindata_filename='unimelb_training.csv'\n",
    "trainfile_path = os.path.join(unimelbdatafolder, traindata_filename)"
   ]
  },
  {
   "cell_type": "markdown",
   "id": "20263fec-8d08-4afd-9880-11936479e4bc",
   "metadata": {},
   "source": [
    "### 1. Data clean"
   ]
  },
  {
   "cell_type": "markdown",
   "id": "84fa53e2-04f3-4a58-bd8e-1574e30da045",
   "metadata": {
    "tags": []
   },
   "source": [
    "#### A few utility functions"
   ]
  },
  {
   "cell_type": "code",
   "execution_count": 4,
   "id": "7ab47b09-97aa-42e7-9b5f-ec87b8c0f6b7",
   "metadata": {
    "tags": []
   },
   "outputs": [],
   "source": [
    "def cleanRawData(raw0):\n",
    "    raw = raw0.copy()\n",
    "    raw['Sponsor.Code'] = raw['Sponsor.Code'].fillna('Unk')\n",
    "    raw['Sponsor.Code'] = 'Sponsor'+raw['Sponsor.Code']\n",
    "\n",
    "    raw['Grant.Category.Code'] = raw['Grant.Category.Code'].fillna('Unk')\n",
    "    raw['Grant.Category.Code'] = 'GrantCat'+raw['Grant.Category.Code']\n",
    "\n",
    "    raw['Contract.Value.Band...see.note.A'] = raw['Contract.Value.Band...see.note.A'].fillna('Unk')\n",
    "    raw['Contract.Value.Band...see.note.A'] = 'ContractValueBand'+raw['Contract.Value.Band...see.note.A']\n",
    "\n",
    "    raw['Role.1'] = raw['Role.1'].fillna('Unk')\n",
    "    return raw\n",
    "    \n",
    "def getVerticalData(raw):\n",
    "    namesPre = []\n",
    "    int1to15 = [str(x) for x in range(1,16)]\n",
    "    for x in raw.columns:\n",
    "        if x[x.rfind(\".\")+1:] in int1to15:\n",
    "            if x[:x.rfind(\".\")] not in namesPre:\n",
    "                namesPre.append(x[:x.rfind(\".\")])\n",
    "                \n",
    "    tmp = []\n",
    "    for i in range(1,16):\n",
    "        tmpData = pd.DataFrame()\n",
    "        tmpData['Grant.Application.ID'] = raw['Grant.Application.ID']\n",
    "        for x in namesPre:\n",
    "            if x+'.'+str(i) in raw.columns:\n",
    "                tmpData[x] = raw[x+'.'+str(i)]\n",
    "        tmp.append(tmpData)\n",
    "    vertical = pd.concat(tmp)\n",
    "    vertical = vertical[vertical['Role'].notnull()]\n",
    "    return vertical\n",
    "\n",
    "def cleanVerticalData(v0):\n",
    "    v = v0.copy()\n",
    "    v.loc[v['Country.of.Birth'].notnull(),'Country.of.Birth'] = \\\n",
    "        v[v['Country.of.Birth'].notnull()]['Country.of.Birth'].apply(lambda x: x.replace(\" \",\"\"))\n",
    "    \n",
    "    v['Home.Language'] = v['Home.Language'].apply(lambda x: 'OtherLang' if x=='Other' else x)\n",
    "    v['Dept.No.'] = v['Dept.No.'].apply(lambda x: 'Dept'+str(int(x)) if pd.notna(x) else 'DeptNA')\n",
    "    v['Faculty.No.'] = v['Faculty.No.'].apply(lambda x: 'Faculty'+str(int(x)) if pd.notna(x) else 'FacultyNA')\n",
    "    \n",
    "    v['RFCD.Code'] = v['RFCD.Code'].apply(lambda x: 'RFCD'+str(int(x)) if pd.notna(x) else 'RFCDNA')\n",
    "    v['RFCD.Code'] = v['RFCD.Code'].apply(lambda x: 'RFCDNA' if x in ['RFCD0','RFCD999999'] else x)\n",
    "    v.loc[v['RFCD.Code'].isin(['RFCDNA']),'RFCD.Percentage'] = None\n",
    "    \n",
    "    v['SEO.Code'] = v['SEO.Code'].apply(lambda x: 'SEO'+str(int(x)) if pd.notna(x) else 'SEONA')\n",
    "    v['SEO.Code'] = v['SEO.Code'].apply(lambda x: 'SEONA' if x in ['SEO0','SEO999999'] else x)\n",
    "    v.loc[v['SEO.Code'].isin(['SEONA']),'SEO.Percentage'] = None\n",
    "    \n",
    "    colName = 'No..of.Years.in.Uni.at.Time.of.Grant'\n",
    "    v[colName] = v[colName].map({'>=0 to 5':'Duration0to5',\n",
    "                                 '>5 to 10':'Duration5to10',\n",
    "                                 '>10 to 15':'Duration10to15',\n",
    "                                 'more than 15':'DurationGT15',\n",
    "                                 'Less than 0':'DurationLT0'},\n",
    "                           na_action='ignore')\n",
    "    v[colName] = v[colName].fillna('DurationUnk')\n",
    "    \n",
    "    return v\n",
    "\n",
    "def noZV(w): \n",
    "    dropColumns = []\n",
    "    for c in w.columns:\n",
    "        if len(w[c].drop_duplicates())==1:\n",
    "            dropColumns.append(c)\n",
    "    return w.drop(columns = dropColumns)\n",
    "    \n",
    "def getSummaryData(v):\n",
    "    people, totalPub, investPub, investDuration, investFaculty, investDept, investGrants, \\\n",
    "        investPhD, investLang, investCountry, investDOB, investCount, grantData, SEOcount, RFCDcount \\\n",
    "        = pd.DataFrame(), pd.DataFrame(), pd.DataFrame(), pd.DataFrame(), pd.DataFrame(),\\\n",
    "        pd.DataFrame(), pd.DataFrame(), pd.DataFrame(), pd.DataFrame(), pd.DataFrame(),\\\n",
    "        pd.DataFrame(), pd.DataFrame(), pd.DataFrame(), pd.DataFrame(), pd.DataFrame()\n",
    "    \n",
    "    allID = v[['Grant.Application.ID']].drop_duplicates().sort_values('Grant.Application.ID')\n",
    "    \n",
    "    shortNames = {\"EXT_CHIEF_INVESTIGATOR\":\"ECI\", \"STUD_CHIEF_INVESTIGATOR\":\"SCI\", \"CHIEF_INVESTIGATOR\":\"CI\",\\\n",
    "                 \"DELEGATED_RESEARCHER\":\"DR\", \"EXTERNAL_ADVISOR\":\"EA\", \"HONVISIT\":\"HV\",\\\n",
    "                 \"PRINCIPAL_SUPERVISOR\":\"PS\", \"STUDRES\":\"SR\", \"Unk\":\"UNK\", \"\":\"\"}\n",
    "    \n",
    "    # calculate the number of people per Grant application\n",
    "    w = v.groupby('Grant.Application.ID').agg(numPeople = ('Grant.Application.ID','count')).reset_index()\n",
    "    people = noZV(allID.merge(w, on = ['Grant.Application.ID'], how = 'left'))\n",
    "    \n",
    "    # calculate the number of people per role\n",
    "    pt = v[['Grant.Application.ID','Role']].groupby(['Grant.Application.ID', 'Role']).\\\n",
    "        agg(num = ('Role','count')).reset_index().\\\n",
    "        pivot(index = 'Grant.Application.ID',columns = 'Role').reset_index()\n",
    "    newcolname = [x[0]+shortNames[x[1]] for x in pt.columns]\n",
    "    pt.columns = newcolname\n",
    "    pt = pt.fillna(0)\n",
    "    investCount = noZV(allID.merge(pt, on = ['Grant.Application.ID'], how = 'left'))\n",
    "    \n",
    "    # for each role, calculate the frequency of people in each age group\n",
    "    x = v[['Grant.Application.ID','Role','Year.of.Birth']].\\\n",
    "        groupby(['Grant.Application.ID','Role','Year.of.Birth']).\\\n",
    "        agg(num = ('Grant.Application.ID','count')).reset_index()\n",
    "    x = x.sort_values(['Year.of.Birth','Role'])\n",
    "    x['roleC'] = x['Role'].map(shortNames,na_action = 'ignore')+\".\"+x['Year.of.Birth'].astype(int).astype(str)\n",
    "    pt = x.pivot(index = 'Grant.Application.ID',columns = 'roleC',values = 'num').fillna(0).reset_index()\n",
    "    pt.columns.names = [None]\n",
    "    investDOB = noZV(allID.merge(pt, on = ['Grant.Application.ID'], how = 'left'))\n",
    "    \n",
    "    # for each role, calculate the frequency of people from each country\n",
    "    x = v[['Grant.Application.ID','Role','Country.of.Birth']].\\\n",
    "        groupby(['Grant.Application.ID','Role','Country.of.Birth']).\\\n",
    "        agg(num = ('Grant.Application.ID','count')).reset_index()\n",
    "    x = x.sort_values(['Country.of.Birth','Role'])\n",
    "    x['roleC'] = x['Role'].map(shortNames,na_action = 'ignore')+\".\"+x['Country.of.Birth']\n",
    "    pt = x.pivot(index = 'Grant.Application.ID',columns = 'roleC',values = 'num').fillna(0).reset_index()\n",
    "    pt.columns.names = [None]\n",
    "    investCountry = noZV(allID.merge(pt, on = ['Grant.Application.ID'], how = 'left'))\n",
    "    \n",
    "    # for each role, calculate the frenquency of people for each language\n",
    "    x = v[['Grant.Application.ID','Role','Home.Language']].\\\n",
    "        groupby(['Grant.Application.ID','Role','Home.Language']).\\\n",
    "        agg(num = ('Grant.Application.ID','count')).reset_index()\n",
    "    x = x.sort_values(['Home.Language','Role'])\n",
    "    x['roleC'] = x['Role'].map(shortNames,na_action = 'ignore')+\".\"+x['Home.Language']\n",
    "    pt = x.pivot(index = 'Grant.Application.ID',columns = 'roleC',values = 'num').fillna(0).reset_index()\n",
    "    pt.columns.names = [None]\n",
    "    investLang = noZV(allID.merge(pt, on = ['Grant.Application.ID'], how = 'left').fillna(0))\n",
    "    \n",
    "    # for each role, determine who has a Ph.D\n",
    "    x = v[['Grant.Application.ID','Role','With.PHD']].\\\n",
    "        groupby(['Grant.Application.ID','Role','With.PHD']).\\\n",
    "        agg(num = ('Grant.Application.ID','count')).reset_index()\n",
    "    x = x.sort_values(['With.PHD','Role'])    \n",
    "    x['roleC'] = x['Role'].map(shortNames,na_action = 'ignore')+'.PhD'\n",
    "    pt = x.pivot(index = 'Grant.Application.ID',columns = 'roleC',values = 'num').fillna(0).reset_index()\n",
    "    pt.columns.names = [None]\n",
    "    for x in ['EA.PhD','SCI.PhD','UNK.PhD']:\n",
    "        pt[x]=0\n",
    "    investPhD = noZV(allID.merge(pt, on = ['Grant.Application.ID'], how = 'left'))\n",
    "    \n",
    "    # for each role, calculate the number of successful and unsuccessful grants\n",
    "    x = v[['Grant.Application.ID','Role','Number.of.Successful.Grant']].\\\n",
    "        groupby(['Grant.Application.ID','Role']).\\\n",
    "        agg(num = ('Number.of.Successful.Grant','sum')).reset_index()\n",
    "    x = x.sort_values(['Role'])\n",
    "    x['roleC'] = 'Success.'+x['Role'].map(shortNames,na_action = 'ignore')\n",
    "    \n",
    "    y = v[['Grant.Application.ID','Role','Number.of.Unsuccessful.Grant']].\\\n",
    "        groupby(['Grant.Application.ID','Role']).\\\n",
    "        agg(num = ('Number.of.Unsuccessful.Grant','sum')).reset_index()\n",
    "    y = y.sort_values(['Role'])\n",
    "    y['roleC'] = 'Unsuccess.'+y['Role'].map(shortNames,na_action = 'ignore')\n",
    "    pt = pd.concat([x,y]).pivot(index = 'Grant.Application.ID',columns = 'roleC',values = 'num').fillna(0).reset_index()\n",
    "    pt.columns.names = [None]\n",
    "    investGrants = noZV(allID.merge(pt, on = ['Grant.Application.ID'], how = 'left'))\n",
    "    \n",
    "    # Create variables for each role/department combination\n",
    "    x = v[['Grant.Application.ID','Role','Dept.No.']].\\\n",
    "        groupby(['Grant.Application.ID','Role','Dept.No.']).\\\n",
    "        agg(num = ('Grant.Application.ID','count')).reset_index()\n",
    "    x = x.sort_values(['Dept.No.','Role'])\n",
    "    x['roleC'] = x['Role'].map(shortNames,na_action = 'ignore')+\".\"+x['Dept.No.']\n",
    "    pt = x.pivot(index = 'Grant.Application.ID',columns = 'roleC',values = 'num').fillna(0).reset_index()\n",
    "    pt.columns.names = [None]\n",
    "    pt = pt[[x for x in pt.columns if 'DeptNA' not in x]]\n",
    "    investDept = noZV(allID.merge(pt, on = ['Grant.Application.ID'], how = 'left'))\n",
    "    \n",
    "    # Create variables for each role/faculty\n",
    "    x = v[['Grant.Application.ID','Role','Faculty.No.']].\\\n",
    "        groupby(['Grant.Application.ID','Role','Faculty.No.']).\\\n",
    "        agg(num = ('Grant.Application.ID','count')).reset_index()\n",
    "    x = x.sort_values(['Faculty.No.','Role'])\n",
    "    x['roleC'] = x['Role'].map(shortNames,na_action = 'ignore')+\".\"+x['Faculty.No.']\n",
    "    pt = x.pivot(index = 'Grant.Application.ID',columns = 'roleC',values = 'num').fillna(0).reset_index()\n",
    "    pt.columns.names = [None]    \n",
    "    pt = pt[[x for x in pt.columns if 'NA' not in x]]\n",
    "    investFaculty = noZV(allID.merge(pt, on = ['Grant.Application.ID'], how = 'left'))\n",
    "    \n",
    "    # Create dummy variables for each tenure length\n",
    "    x = v[['Grant.Application.ID','No..of.Years.in.Uni.at.Time.of.Grant']].\\\n",
    "        groupby(['Grant.Application.ID','No..of.Years.in.Uni.at.Time.of.Grant']).\\\n",
    "        agg(num = ('Grant.Application.ID','count')).reset_index()\n",
    "    pt = x.pivot(index = 'Grant.Application.ID', columns = 'No..of.Years.in.Uni.at.Time.of.Grant', values = 'num').fillna(0)\n",
    "    pt.columns.names = [None]\n",
    "    investDuration = noZV(allID.merge(pt, on = ['Grant.Application.ID'], how = 'left'))\n",
    "    \n",
    "    # Create variables for the number of publications per journal type. \n",
    "    # Note that we also compute the total number, \n",
    "    # which should be removed for models that cannot deal with such a linear dependency\n",
    "    x = v[['Grant.Application.ID','A.','A','B','C']].\\\n",
    "    groupby('Grant.Application.ID').\\\n",
    "    agg(AstarTotal = ('A.','sum'), ATotal=('A','sum'),BTotal = ('B', 'sum'), CTotal = ('C','sum')).reset_index().fillna(0)\n",
    "    x['allPub'] = x['AstarTotal']+x['ATotal']+x['BTotal']+x['CTotal']\n",
    "    totalPub = x\n",
    "    \n",
    "    # Create variables for the number of publications per journal type per role.\n",
    "    x = v[['Grant.Application.ID','Role','A.','A','B','C']].rename(columns={'A.':'Astar'}).\\\n",
    "        groupby(['Grant.Application.ID','Role']).\\\n",
    "        agg({'Astar':'sum','A':'sum', 'B':'sum','C':'sum'}).reset_index()\n",
    "    pt = x.pivot(index='Grant.Application.ID', columns = 'Role', values = ['Astar','A','B','C']).fillna(0)\n",
    "    newColNames = [x[0]+'.'+shortNames[x[1]] for x in pt.columns]\n",
    "    pt.columns = newColNames\n",
    "    pt = pt.reset_index()\n",
    "    investPub = noZV(allID.merge(pt, on = ['Grant.Application.ID'], how = 'left'))\n",
    "    \n",
    "    # Create variables for each RFCD code\n",
    "    x = v[['Grant.Application.ID','RFCD.Code']].\\\n",
    "        groupby(['Grant.Application.ID','RFCD.Code']).\\\n",
    "        agg(num = ('Grant.Application.ID','count')).reset_index()\n",
    "    pt = x.pivot(index='Grant.Application.ID', columns = 'RFCD.Code',values = 'num').reset_index().drop(columns = ['RFCDNA']).fillna(0)\n",
    "    pt.columns.names=[None]\n",
    "    RFCDcount = noZV(allID.merge(pt, on = ['Grant.Application.ID'], how = 'left'))\n",
    "\n",
    "    # Create variables for each SEO code\n",
    "    x = v[['Grant.Application.ID','SEO.Code']].\\\n",
    "        groupby(['Grant.Application.ID','SEO.Code']).\\\n",
    "        agg(num = ('Grant.Application.ID','count')).reset_index()\n",
    "    pt = x.pivot(index='Grant.Application.ID', columns = 'SEO.Code',values = 'num').reset_index().fillna(0).drop(columns = ['SEONA'])\n",
    "    pt.columns.names=[None]\n",
    "    SEOcount = noZV(allID.merge(pt, on = ['Grant.Application.ID'], how = 'left'))    \n",
    "    \n",
    "    # Create the grantData\n",
    "    x = raw[[\"Sponsor.Code\", \"Contract.Value.Band...see.note.A\", \"Grant.Category.Code\"]]\n",
    "    enc = OneHotEncoder(handle_unknown='ignore')\n",
    "\n",
    "    startTime = raw['Start.date'].apply(lambda x : datetime.strptime(x,'%d/%m/%y'))\n",
    "    startYear = startTime.apply(lambda x: x.year)\n",
    "\n",
    "    mthabbre=['Jan','Feb','Mar','Apr','May','Jun','Jul','Aug','Sep','Oct','Nov','Dec']\n",
    "    wdayabbre = ['Mon','Tue','Wed','Thu','Fri','Sat','Sun']\n",
    "    x['Month'] = startTime.apply(lambda x: mthabbre[x.month-1])\n",
    "    x['Day'] = startTime.apply(lambda x: x.day)\n",
    "    x['yDay'] = startTime.apply(lambda x: 1+(x- datetime.strptime('1/1/'+str(x.year),'%d/%m/%Y')).days)\n",
    "    x['Weekday']=startTime.apply(lambda x: wdayabbre[x.dayofweek])\n",
    "\n",
    "    y = enc.fit_transform(np.array(x[['Sponsor.Code', \"Contract.Value.Band...see.note.A\", \"Grant.Category.Code\",'Month','Weekday']]))\n",
    "    y = pd.DataFrame(data = y.toarray(),columns = enc.get_feature_names_out())\n",
    "    y = y.rename(columns = dict(zip(list(y.columns), [x[3:] for x in y.columns])))\n",
    "    y['Day'] = x['Day']\n",
    "    y['yDay'] = x['yDay']\n",
    "    y['Grant.Application.ID'] = raw['Grant.Application.ID']\n",
    "    y['Class'] = raw['Grant.Status'].map({0:'unsuccessful', 1:'successful'})\n",
    "    y['is2008'] = startYear == 2008\n",
    "    y.columns = [a.strip() for a in y.columns]\n",
    "    grantData = noZV(y)\n",
    "    \n",
    "    # Merge all the predictors together, remove zero variance columns and merge in the outcome data\n",
    "    summarized = investCount\n",
    "    for x in [investDOB, investCountry, investLang, investPhD, investGrants, \\\n",
    "        investDept, investFaculty, investDuration, investPub, totalPub, people, RFCDcount, SEOcount, grantData]:\n",
    "        summarized = summarized.merge(x, on = ['Grant.Application.ID'], how = 'left')\n",
    "    \n",
    "    return investCount, investDOB, investCountry, investLang, investPhD, investGrants, \\\n",
    "        investDept, investFaculty, investDuration, investPub, totalPub, people, RFCDcount, SEOcount, grantData, summarized"
   ]
  },
  {
   "cell_type": "code",
   "execution_count": 5,
   "id": "eff5364d-fd72-43a9-8c28-f664738f3fa9",
   "metadata": {
    "jupyter": {
     "source_hidden": true
    },
    "tags": []
   },
   "outputs": [],
   "source": [
    "def checkVerticalData(v):\n",
    "    vertical_filename='vertical.csv'\n",
    "    vertical_path = os.path.join(unimelbdatafolder, vertical_filename)\n",
    "\n",
    "    v0 = pd.read_csv(vertical_path)\n",
    "    v0['RFCD.Code'] = v0['RFCD.Code'].fillna('RFCDNA')\n",
    "    v0['SEO.Code'] = v0['SEO.Code'].fillna('SEONA')\n",
    "    v0['Dept.No.'] = v0['Dept.No.'].fillna('DeptNA')\n",
    "    v0['Faculty.No.'] = v0['Faculty.No.'].fillna('FacultyNA')\n",
    "\n",
    "    v0s = v0.sort_values(['Grant.Application.ID','RFCD.Code']).reset_index(drop=True)\n",
    "    vs = v.sort_values(['Grant.Application.ID','RFCD.Code']).reset_index(drop=True)\n",
    "    return v0s.equals(vs)\n",
    "\n",
    "def checkSummaryData(summary):\n",
    "    s = summary[-1].copy()\n",
    "    s.columns = [x.lower() for x in s.columns]\n",
    "    s =s.drop(columns = ['grant.application.id'])\n",
    "    if 'yday' in s.columns:\n",
    "        s = s.drop(columns=['yday'])\n",
    "\n",
    "    summary_filename='summarized.csv'\n",
    "    summary_path = os.path.join(unimelbdatafolder, summary_filename)\n",
    "    s0 = pd.read_csv(summary_path)\n",
    "    s0.columns = [x.lower() for x in s0.columns]\n",
    "\n",
    "    cm = s[list(s0.columns)]==(s0)\n",
    "    diffcol = []\n",
    "    for x in s.columns:\n",
    "        if (len(cm[x].value_counts())!=1):\n",
    "            diffcol.append(x)\n",
    "\n",
    "    # Check columns with PhD information: differ by NaN values\n",
    "    p = summary[4].copy()\n",
    "    p.columns = [x.lower() for x in p.columns]\n",
    "\n",
    "    PHD_filename='investPhD.csv'\n",
    "    PHD_path = os.path.join(unimelbdatafolder, PHD_filename)\n",
    "\n",
    "    p0 = pd.read_csv(PHD_path)\n",
    "    p0.columns = [x.lower() for x in p0.columns]\n",
    "    p0 = p0[list(p.columns)]\n",
    "\n",
    "    p = p.fillna('Missing')\n",
    "    p0 = p0.fillna('Missing')\n",
    "\n",
    "    # Check country columns: fill nan by 0 in getSummaryData\n",
    "    c = summary[2].copy()\n",
    "    c.columns = [x.lower() for x in c.columns]\n",
    "    for x in c.columns:\n",
    "        c[x]=c[x].fillna(0).astype('int64')\n",
    "\n",
    "    Country_filename='investCountry.csv'\n",
    "    Country_path = os.path.join(unimelbdatafolder, Country_filename)\n",
    "\n",
    "    c0 = pd.read_csv(Country_path)\n",
    "    c0.columns = [x.lower() for x in c0.columns]\n",
    "    c0 = c0[list(c.columns)]\n",
    "\n",
    "    # Check DOB columns: fill nan by 0 in getSummaryData\n",
    "    b = summary[1].copy()\n",
    "    b.columns = [x.lower() for x in b.columns]\n",
    "    for x in b.columns:\n",
    "        b[x]=b[x].fillna(0).astype('int64')\n",
    "\n",
    "    DOB_filename='investDOB.csv'\n",
    "    DOB_path = os.path.join(unimelbdatafolder, DOB_filename)\n",
    "\n",
    "    b0 = pd.read_csv(DOB_path)\n",
    "    b0.columns = [x.lower() for x in b0.columns]\n",
    "    b0 = b0[list(b.columns)]\n",
    "\n",
    "    return \"Columns in Country and Date.of.Birth needs to fill null values by 0\", {'PhD':p0.equals(p), 'Country': c0.equals(c), 'Date.of.Birth':b0.equals(b)}, \\\n",
    "    [x for x in list(c.columns)+list(b.columns) if x.lower()!='grant.application.id']"
   ]
  },
  {
   "cell_type": "code",
   "execution_count": 17,
   "id": "9019b4c5-3e79-4acd-a755-46747fbb7eff",
   "metadata": {
    "tags": []
   },
   "outputs": [],
   "source": [
    "def getTrainTestData(s):\n",
    "    summarized = s.copy()\n",
    "    col1 = [x for x in summarized.columns if x.lower() =='is2008'][0]\n",
    "    col2 = [x for x in summarized.columns if x.lower() =='grant.application.id'][0]\n",
    "    \n",
    "    training = summarized[~summarized[col1]] # data not in 2008\n",
    "    year2008= summarized[summarized[col1]] # data in 2008\n",
    "\n",
    "    np.random.seed(552)\n",
    "    inTrain = np.random.choice(year2008.index, size = 1557, replace = False) # add 1557 records into training\n",
    "\n",
    "    training2 = year2008[year2008.index.isin(inTrain)]\n",
    "    testing = year2008[~year2008.index.isin(inTrain)] # 518 records of year 2008 as testing\n",
    "    training = pd.concat([training, training2])\n",
    "\n",
    "    training = training.drop(columns = [col1,col2])\n",
    "    testing = testing.drop(columns = [col1,col2])\n",
    "\n",
    "    training = noZV(training)\n",
    "    testing = testing[list(training.columns)]\n",
    "    year2008 = year2008[list(training.columns)]\n",
    "    return training, testing, year2008"
   ]
  },
  {
   "cell_type": "code",
   "execution_count": 7,
   "id": "496240cb-e291-4ed7-beae-447fb5dbbeeb",
   "metadata": {
    "jupyter": {
     "source_hidden": true
    },
    "tags": []
   },
   "outputs": [],
   "source": [
    "def removeHighCorrColumns(XTrain, threshold = 0.99):\n",
    "    corr_df = XTrain.corr().fillna(0)\n",
    "    for i in range(len(corr_df)):\n",
    "        corr_df.iloc[i,i] = 0\n",
    "    abs_corr = np.abs(np.array(corr_df))\n",
    "    columnnames = list(corr_df.columns)\n",
    "\n",
    "    while abs_corr.max() > threshold:\n",
    "        i, j = np.unravel_index(abs_corr.argmax(), abs_corr.shape)\n",
    "        #print(i,j, abs_corr.max())\n",
    "        if abs_corr[i,].mean()> abs_corr[j,].mean():\n",
    "            k = i\n",
    "        else:\n",
    "            k = j\n",
    "        columnnames.pop(k)\n",
    "        abs_corr = np.delete(abs_corr, k, axis = 0)\n",
    "        abs_corr = np.delete(abs_corr, k, axis = 1)\n",
    "    return columnnames\n",
    "\n",
    "def nearZeroVar(X, freqCut):\n",
    "    columnnames = list(X.columns)\n",
    "    percentUnique, freqRatio, zeroVar, nzv = [], [], [], []\n",
    "    for c in columnnames:\n",
    "        w = X[c]\n",
    "        valcnt = w.value_counts().values\n",
    "        percentUnique.append(100* len(valcnt)/valcnt.sum())\n",
    "        zeroVar.append(True if len(valcnt)==1 else False)\n",
    "        if len(valcnt)==1: \n",
    "            freqRatio.append(0)\n",
    "        else:\n",
    "            freqRatio.append(valcnt[0]/valcnt[1])\n",
    "        nzv.append(freqRatio[-1]==0 or freqRatio[-1]>freqCut)\n",
    "    df = pd.DataFrame({'col':columnnames, 'freqRatio':freqRatio, 'zeroVar':zeroVar,'nzv':nzv}).set_index('col')\n",
    "    df.index.name = None\n",
    "    return df\n",
    "\n",
    "def getFullSetReducedSet(training):\n",
    "    fullSet = [x for x in training.columns if x.lower()!='class']\n",
    "    XTrain = training[fullSet]\n",
    "    col1 = removeHighCorrColumns(XTrain)\n",
    "    fullSet = col1\n",
    "\n",
    "    isNZV = nearZeroVar(training[fullSet], int(len(training)/5))\n",
    "    fullSet = list(isNZV[~isNZV['nzv']].index)\n",
    "\n",
    "    reducedSet = list(isNZV[(~isNZV['nzv']) & (isNZV['freqRatio']<int(len(training)/50))].index)\n",
    "    reducedSet = [x for x in reducedSet if x.lower() not in ['allpub','numpeople','mar','sun']]\n",
    "    return fullSet, reducedSet"
   ]
  },
  {
   "cell_type": "markdown",
   "id": "571291b8-6ee6-4c19-a61f-9b73c9a7ed76",
   "metadata": {
    "tags": []
   },
   "source": [
    "#### Read csv file and get summary data"
   ]
  },
  {
   "cell_type": "code",
   "execution_count": 8,
   "id": "57d2b1dd-4058-4627-a491-bead6945bb2f",
   "metadata": {
    "tags": []
   },
   "outputs": [
    {
     "name": "stdout",
     "output_type": "stream",
     "text": [
      "<class 'pandas.core.frame.DataFrame'>\n",
      "RangeIndex: 8708 entries, 0 to 8707\n",
      "Columns: 251 entries, Grant.Application.ID to C.15\n",
      "dtypes: float64(179), int64(2), object(70)\n",
      "memory usage: 16.7+ MB\n"
     ]
    }
   ],
   "source": [
    "raw = pd.read_csv(trainfile_path, low_memory=False)\n",
    "raw = raw.drop(columns = ['Unnamed: 251'])\n",
    "raw.info()"
   ]
  },
  {
   "cell_type": "code",
   "execution_count": 10,
   "id": "53456b0b-f535-448e-92ba-39ceaeada36b",
   "metadata": {
    "tags": []
   },
   "outputs": [],
   "source": [
    "raw = cleanRawData(raw)\n",
    "vertical = cleanVerticalData((getVerticalData(raw)))"
   ]
  },
  {
   "cell_type": "code",
   "execution_count": 11,
   "id": "786839f9-789b-41a6-ad16-b2dc499b6a23",
   "metadata": {},
   "outputs": [],
   "source": [
    "s = getSummaryData(vertical)\n",
    "m, dic, l = checkSummaryData(s)"
   ]
  },
  {
   "cell_type": "code",
   "execution_count": 12,
   "id": "69779132-526a-4454-bcc9-4a03b4697e75",
   "metadata": {
    "tags": []
   },
   "outputs": [],
   "source": [
    "summarized = s[-1]\n",
    "fillList = [x for x in summarized.columns if x.lower() in l]\n",
    "summarized[fillList] = summarized[fillList].fillna(0)"
   ]
  },
  {
   "cell_type": "code",
   "execution_count": 14,
   "id": "39873a6c-c11f-40fc-8842-2189029231d5",
   "metadata": {
    "tags": []
   },
   "outputs": [
    {
     "name": "stdout",
     "output_type": "stream",
     "text": [
      "<class 'pandas.core.frame.DataFrame'>\n",
      "Int64Index: 8708 entries, 0 to 8707\n",
      "Columns: 1916 entries, Grant.Application.ID to is2008\n",
      "dtypes: bool(1), float64(1910), int64(4), object(1)\n",
      "memory usage: 127.3+ MB\n"
     ]
    }
   ],
   "source": [
    "summarized.info()"
   ]
  },
  {
   "cell_type": "code",
   "execution_count": 19,
   "id": "54b84834-4076-46a2-9fac-2e04d51c868c",
   "metadata": {
    "tags": []
   },
   "outputs": [],
   "source": [
    "# year 2008 has 2075 records, pre 2008 has 6633 records\n",
    "# Training : pre2008 data + 1557 records in year 2008\n",
    "# Testing: 518 records in year 2008\n",
    "training, testing, year2008Data = getTrainTestData(summarized)"
   ]
  },
  {
   "cell_type": "code",
   "execution_count": 20,
   "id": "06ce633e-5fe1-4ec7-a80e-9233da744cd5",
   "metadata": {
    "tags": []
   },
   "outputs": [
    {
     "name": "stdout",
     "output_type": "stream",
     "text": [
      "<class 'pandas.core.frame.DataFrame'>\n",
      "Int64Index: 8190 entries, 0 to 8707\n",
      "Columns: 1894 entries, numCI to Class\n",
      "dtypes: float64(1890), int64(3), object(1)\n",
      "memory usage: 118.4+ MB\n"
     ]
    }
   ],
   "source": [
    "training.info()"
   ]
  },
  {
   "cell_type": "code",
   "execution_count": 187,
   "id": "242f6c3b-2b45-4768-88c3-ef90d1864b6a",
   "metadata": {},
   "outputs": [],
   "source": [
    "'''\n",
    "fullSet, reducedSet = getFullSetReducedSet(training)\n",
    "pd.DataFrame({'colName':fullSet}).to_csv(\"./fullset.csv\",index=False)\n",
    "pd.DataFrame({'colName':reducedSet}).to_csv(\"./reducedset.csv\",index=False)\n",
    "'''"
   ]
  },
  {
   "cell_type": "code",
   "execution_count": 21,
   "id": "023cb499-5598-487c-87af-3b658c4ddd38",
   "metadata": {
    "tags": []
   },
   "outputs": [
    {
     "data": {
      "text/plain": [
       "((8190, 1894), (518, 1894), (2075, 1894))"
      ]
     },
     "execution_count": 21,
     "metadata": {},
     "output_type": "execute_result"
    }
   ],
   "source": [
    "np.array(training).shape, np.array(testing).shape, np.array(year2008Data).shape"
   ]
  },
  {
   "cell_type": "code",
   "execution_count": 22,
   "id": "2dc8c100-6c64-4832-8564-5dcabeda6d7c",
   "metadata": {
    "tags": []
   },
   "outputs": [],
   "source": [
    "pre2008Data = training[~training.index.isin(year2008Data.index)]\n",
    "test2008 = testing"
   ]
  },
  {
   "cell_type": "code",
   "execution_count": 23,
   "id": "4992cec4-ac63-4b25-9bf8-1124fca62fcf",
   "metadata": {
    "tags": []
   },
   "outputs": [],
   "source": [
    "allData=training\n",
    "holdout2008 = testing"
   ]
  },
  {
   "cell_type": "code",
   "execution_count": 24,
   "id": "57ff7eea-800d-42bd-b4ac-84bc8207bae9",
   "metadata": {
    "tags": []
   },
   "outputs": [
    {
     "data": {
      "text/plain": [
       "((6633, 1894), (518, 1894), (8190, 1894), (518, 1894))"
      ]
     },
     "execution_count": 24,
     "metadata": {},
     "output_type": "execute_result"
    }
   ],
   "source": [
    "np.array(pre2008Data).shape, np.array(test2008).shape, np.array(allData).shape, np.array(holdout2008).shape"
   ]
  },
  {
   "cell_type": "code",
   "execution_count": 288,
   "id": "41b96016-3442-4c82-93d0-7f5cb7fde8b4",
   "metadata": {
    "tags": []
   },
   "outputs": [],
   "source": [
    "fullSet = pd.read_csv(\"./fullset.csv\")['colName'].to_list()\n",
    "reducedSet = pd.read_csv(\"./reducedset.csv\")['colName'].to_list()\n",
    "if 'yDay' not in fullSet:\n",
    "    fullSet.append('yDay')\n",
    "if 'yDay' not in reducedSet:\n",
    "    reducedSet.append('yDay')\n",
    "reducedSet.remove('Day')\n",
    "fullSet.remove('Day')"
   ]
  },
  {
   "cell_type": "code",
   "execution_count": 289,
   "id": "eb87a5d4-f681-417a-a0e7-07a088ec37ea",
   "metadata": {
    "tags": []
   },
   "outputs": [
    {
     "data": {
      "text/plain": [
       "(1069, 255)"
      ]
     },
     "execution_count": 289,
     "metadata": {},
     "output_type": "execute_result"
    }
   ],
   "source": [
    "len(fullSet), len(reducedSet) #1070,  256 after adding yDay"
   ]
  },
  {
   "cell_type": "markdown",
   "id": "0a6ab5c4-ffba-4c2a-af42-1499c10aff43",
   "metadata": {},
   "source": [
    "### 2. Logistic Regression\n",
    "{0:'unsuccessful', 1:'successful'}"
   ]
  },
  {
   "cell_type": "code",
   "execution_count": 125,
   "id": "03408982-e519-4df1-9e3a-ad042b8534e0",
   "metadata": {
    "tags": []
   },
   "outputs": [],
   "source": [
    "from sklearn import linear_model\n",
    "from sklearn.preprocessing import PolynomialFeatures\n",
    "from sklearn.pipeline import Pipeline\n",
    "from sklearn.metrics import classification_report, confusion_matrix, ConfusionMatrixDisplay, roc_auc_score, roc_curve, RocCurveDisplay"
   ]
  },
  {
   "cell_type": "code",
   "execution_count": 126,
   "id": "dc00bf79-20ed-4ea5-8dc3-7637cdc86487",
   "metadata": {
    "tags": []
   },
   "outputs": [],
   "source": [
    "def modelPerf(model, X, y):\n",
    "    y_true = y\n",
    "    y_pred = model.predict(X)\n",
    "    print(f\"Report of {model.__class__.__name__}:\")\n",
    "    print(classification_report(y_true, y_pred, digits = 7))\n",
    "    \n",
    "    f = plt.figure(figsize=(10,4))\n",
    "    ax1 = f.add_subplot(121)\n",
    "    cmdisp = ConfusionMatrixDisplay(confusion_matrix(y_true,y_pred), display_labels=model.classes_)\n",
    "    cmdisp.plot(ax = ax1)\n",
    "    \n",
    "    y_score = model.predict_proba(X)[:,1]\n",
    "    roc_area = roc_auc_score(y_true, y_score)\n",
    "    ax2 = f.add_subplot(122)\n",
    "    roc_disp = RocCurveDisplay.from_estimator(model, X, y, ax = ax2)\n",
    "    print(f\"The area under the ROC curve is {roc_area}\")"
   ]
  },
  {
   "cell_type": "code",
   "execution_count": 123,
   "id": "a715ff8b-b2ad-4942-9513-f60cdf9c6f3f",
   "metadata": {
    "tags": []
   },
   "outputs": [
    {
     "data": {
      "text/html": [
       "<div>\n",
       "<style scoped>\n",
       "    .dataframe tbody tr th:only-of-type {\n",
       "        vertical-align: middle;\n",
       "    }\n",
       "\n",
       "    .dataframe tbody tr th {\n",
       "        vertical-align: top;\n",
       "    }\n",
       "\n",
       "    .dataframe thead th {\n",
       "        text-align: right;\n",
       "    }\n",
       "</style>\n",
       "<table border=\"1\" class=\"dataframe\">\n",
       "  <thead>\n",
       "    <tr style=\"text-align: right;\">\n",
       "      <th></th>\n",
       "      <th>numCI</th>\n",
       "      <th>numDR</th>\n",
       "      <th>numEA</th>\n",
       "      <th>numECI</th>\n",
       "      <th>numHV</th>\n",
       "      <th>numPS</th>\n",
       "      <th>numSR</th>\n",
       "      <th>numSCI</th>\n",
       "      <th>numUNK</th>\n",
       "      <th>CI.1900</th>\n",
       "      <th>...</th>\n",
       "      <th>Fri</th>\n",
       "      <th>Mon</th>\n",
       "      <th>Sat</th>\n",
       "      <th>Sun</th>\n",
       "      <th>Thu</th>\n",
       "      <th>Tue</th>\n",
       "      <th>Wed</th>\n",
       "      <th>Day</th>\n",
       "      <th>yDay</th>\n",
       "      <th>Class</th>\n",
       "    </tr>\n",
       "  </thead>\n",
       "  <tbody>\n",
       "    <tr>\n",
       "      <th>0</th>\n",
       "      <td>1.0</td>\n",
       "      <td>0.0</td>\n",
       "      <td>0.0</td>\n",
       "      <td>0.0</td>\n",
       "      <td>0.0</td>\n",
       "      <td>0.0</td>\n",
       "      <td>0.0</td>\n",
       "      <td>0.0</td>\n",
       "      <td>0.0</td>\n",
       "      <td>0.0</td>\n",
       "      <td>...</td>\n",
       "      <td>0.0</td>\n",
       "      <td>0.0</td>\n",
       "      <td>0.0</td>\n",
       "      <td>0.0</td>\n",
       "      <td>0.0</td>\n",
       "      <td>1.0</td>\n",
       "      <td>0.0</td>\n",
       "      <td>8</td>\n",
       "      <td>312</td>\n",
       "      <td>successful</td>\n",
       "    </tr>\n",
       "    <tr>\n",
       "      <th>1</th>\n",
       "      <td>1.0</td>\n",
       "      <td>0.0</td>\n",
       "      <td>0.0</td>\n",
       "      <td>0.0</td>\n",
       "      <td>0.0</td>\n",
       "      <td>0.0</td>\n",
       "      <td>0.0</td>\n",
       "      <td>0.0</td>\n",
       "      <td>0.0</td>\n",
       "      <td>0.0</td>\n",
       "      <td>...</td>\n",
       "      <td>1.0</td>\n",
       "      <td>0.0</td>\n",
       "      <td>0.0</td>\n",
       "      <td>0.0</td>\n",
       "      <td>0.0</td>\n",
       "      <td>0.0</td>\n",
       "      <td>0.0</td>\n",
       "      <td>11</td>\n",
       "      <td>315</td>\n",
       "      <td>successful</td>\n",
       "    </tr>\n",
       "    <tr>\n",
       "      <th>2</th>\n",
       "      <td>3.0</td>\n",
       "      <td>1.0</td>\n",
       "      <td>0.0</td>\n",
       "      <td>3.0</td>\n",
       "      <td>0.0</td>\n",
       "      <td>0.0</td>\n",
       "      <td>0.0</td>\n",
       "      <td>0.0</td>\n",
       "      <td>0.0</td>\n",
       "      <td>0.0</td>\n",
       "      <td>...</td>\n",
       "      <td>0.0</td>\n",
       "      <td>1.0</td>\n",
       "      <td>0.0</td>\n",
       "      <td>0.0</td>\n",
       "      <td>0.0</td>\n",
       "      <td>0.0</td>\n",
       "      <td>0.0</td>\n",
       "      <td>14</td>\n",
       "      <td>318</td>\n",
       "      <td>successful</td>\n",
       "    </tr>\n",
       "    <tr>\n",
       "      <th>3</th>\n",
       "      <td>1.0</td>\n",
       "      <td>0.0</td>\n",
       "      <td>0.0</td>\n",
       "      <td>3.0</td>\n",
       "      <td>0.0</td>\n",
       "      <td>1.0</td>\n",
       "      <td>0.0</td>\n",
       "      <td>1.0</td>\n",
       "      <td>0.0</td>\n",
       "      <td>0.0</td>\n",
       "      <td>...</td>\n",
       "      <td>0.0</td>\n",
       "      <td>0.0</td>\n",
       "      <td>0.0</td>\n",
       "      <td>0.0</td>\n",
       "      <td>0.0</td>\n",
       "      <td>1.0</td>\n",
       "      <td>0.0</td>\n",
       "      <td>15</td>\n",
       "      <td>319</td>\n",
       "      <td>successful</td>\n",
       "    </tr>\n",
       "    <tr>\n",
       "      <th>4</th>\n",
       "      <td>1.0</td>\n",
       "      <td>0.0</td>\n",
       "      <td>0.0</td>\n",
       "      <td>0.0</td>\n",
       "      <td>0.0</td>\n",
       "      <td>0.0</td>\n",
       "      <td>0.0</td>\n",
       "      <td>0.0</td>\n",
       "      <td>0.0</td>\n",
       "      <td>0.0</td>\n",
       "      <td>...</td>\n",
       "      <td>0.0</td>\n",
       "      <td>0.0</td>\n",
       "      <td>0.0</td>\n",
       "      <td>0.0</td>\n",
       "      <td>0.0</td>\n",
       "      <td>0.0</td>\n",
       "      <td>1.0</td>\n",
       "      <td>16</td>\n",
       "      <td>320</td>\n",
       "      <td>unsuccessful</td>\n",
       "    </tr>\n",
       "    <tr>\n",
       "      <th>5</th>\n",
       "      <td>1.0</td>\n",
       "      <td>0.0</td>\n",
       "      <td>0.0</td>\n",
       "      <td>0.0</td>\n",
       "      <td>0.0</td>\n",
       "      <td>0.0</td>\n",
       "      <td>0.0</td>\n",
       "      <td>0.0</td>\n",
       "      <td>0.0</td>\n",
       "      <td>0.0</td>\n",
       "      <td>...</td>\n",
       "      <td>0.0</td>\n",
       "      <td>0.0</td>\n",
       "      <td>1.0</td>\n",
       "      <td>0.0</td>\n",
       "      <td>0.0</td>\n",
       "      <td>0.0</td>\n",
       "      <td>0.0</td>\n",
       "      <td>19</td>\n",
       "      <td>323</td>\n",
       "      <td>successful</td>\n",
       "    </tr>\n",
       "    <tr>\n",
       "      <th>6</th>\n",
       "      <td>3.0</td>\n",
       "      <td>0.0</td>\n",
       "      <td>0.0</td>\n",
       "      <td>1.0</td>\n",
       "      <td>0.0</td>\n",
       "      <td>0.0</td>\n",
       "      <td>0.0</td>\n",
       "      <td>0.0</td>\n",
       "      <td>0.0</td>\n",
       "      <td>0.0</td>\n",
       "      <td>...</td>\n",
       "      <td>0.0</td>\n",
       "      <td>0.0</td>\n",
       "      <td>1.0</td>\n",
       "      <td>0.0</td>\n",
       "      <td>0.0</td>\n",
       "      <td>0.0</td>\n",
       "      <td>0.0</td>\n",
       "      <td>19</td>\n",
       "      <td>323</td>\n",
       "      <td>unsuccessful</td>\n",
       "    </tr>\n",
       "    <tr>\n",
       "      <th>7</th>\n",
       "      <td>2.0</td>\n",
       "      <td>0.0</td>\n",
       "      <td>0.0</td>\n",
       "      <td>1.0</td>\n",
       "      <td>0.0</td>\n",
       "      <td>0.0</td>\n",
       "      <td>0.0</td>\n",
       "      <td>0.0</td>\n",
       "      <td>0.0</td>\n",
       "      <td>0.0</td>\n",
       "      <td>...</td>\n",
       "      <td>0.0</td>\n",
       "      <td>0.0</td>\n",
       "      <td>1.0</td>\n",
       "      <td>0.0</td>\n",
       "      <td>0.0</td>\n",
       "      <td>0.0</td>\n",
       "      <td>0.0</td>\n",
       "      <td>19</td>\n",
       "      <td>323</td>\n",
       "      <td>unsuccessful</td>\n",
       "    </tr>\n",
       "    <tr>\n",
       "      <th>8</th>\n",
       "      <td>2.0</td>\n",
       "      <td>0.0</td>\n",
       "      <td>0.0</td>\n",
       "      <td>2.0</td>\n",
       "      <td>0.0</td>\n",
       "      <td>0.0</td>\n",
       "      <td>0.0</td>\n",
       "      <td>0.0</td>\n",
       "      <td>0.0</td>\n",
       "      <td>0.0</td>\n",
       "      <td>...</td>\n",
       "      <td>0.0</td>\n",
       "      <td>0.0</td>\n",
       "      <td>1.0</td>\n",
       "      <td>0.0</td>\n",
       "      <td>0.0</td>\n",
       "      <td>0.0</td>\n",
       "      <td>0.0</td>\n",
       "      <td>19</td>\n",
       "      <td>323</td>\n",
       "      <td>successful</td>\n",
       "    </tr>\n",
       "    <tr>\n",
       "      <th>9</th>\n",
       "      <td>1.0</td>\n",
       "      <td>0.0</td>\n",
       "      <td>0.0</td>\n",
       "      <td>3.0</td>\n",
       "      <td>0.0</td>\n",
       "      <td>0.0</td>\n",
       "      <td>0.0</td>\n",
       "      <td>0.0</td>\n",
       "      <td>0.0</td>\n",
       "      <td>0.0</td>\n",
       "      <td>...</td>\n",
       "      <td>0.0</td>\n",
       "      <td>0.0</td>\n",
       "      <td>1.0</td>\n",
       "      <td>0.0</td>\n",
       "      <td>0.0</td>\n",
       "      <td>0.0</td>\n",
       "      <td>0.0</td>\n",
       "      <td>19</td>\n",
       "      <td>323</td>\n",
       "      <td>successful</td>\n",
       "    </tr>\n",
       "  </tbody>\n",
       "</table>\n",
       "<p>10 rows × 1894 columns</p>\n",
       "</div>"
      ],
      "text/plain": [
       "   numCI  numDR  numEA  numECI  numHV  numPS  numSR  numSCI  numUNK  CI.1900  \\\n",
       "0    1.0    0.0    0.0     0.0    0.0    0.0    0.0     0.0     0.0      0.0   \n",
       "1    1.0    0.0    0.0     0.0    0.0    0.0    0.0     0.0     0.0      0.0   \n",
       "2    3.0    1.0    0.0     3.0    0.0    0.0    0.0     0.0     0.0      0.0   \n",
       "3    1.0    0.0    0.0     3.0    0.0    1.0    0.0     1.0     0.0      0.0   \n",
       "4    1.0    0.0    0.0     0.0    0.0    0.0    0.0     0.0     0.0      0.0   \n",
       "5    1.0    0.0    0.0     0.0    0.0    0.0    0.0     0.0     0.0      0.0   \n",
       "6    3.0    0.0    0.0     1.0    0.0    0.0    0.0     0.0     0.0      0.0   \n",
       "7    2.0    0.0    0.0     1.0    0.0    0.0    0.0     0.0     0.0      0.0   \n",
       "8    2.0    0.0    0.0     2.0    0.0    0.0    0.0     0.0     0.0      0.0   \n",
       "9    1.0    0.0    0.0     3.0    0.0    0.0    0.0     0.0     0.0      0.0   \n",
       "\n",
       "   ...  Fri  Mon  Sat  Sun  Thu  Tue  Wed  Day  yDay         Class  \n",
       "0  ...  0.0  0.0  0.0  0.0  0.0  1.0  0.0    8   312    successful  \n",
       "1  ...  1.0  0.0  0.0  0.0  0.0  0.0  0.0   11   315    successful  \n",
       "2  ...  0.0  1.0  0.0  0.0  0.0  0.0  0.0   14   318    successful  \n",
       "3  ...  0.0  0.0  0.0  0.0  0.0  1.0  0.0   15   319    successful  \n",
       "4  ...  0.0  0.0  0.0  0.0  0.0  0.0  1.0   16   320  unsuccessful  \n",
       "5  ...  0.0  0.0  1.0  0.0  0.0  0.0  0.0   19   323    successful  \n",
       "6  ...  0.0  0.0  1.0  0.0  0.0  0.0  0.0   19   323  unsuccessful  \n",
       "7  ...  0.0  0.0  1.0  0.0  0.0  0.0  0.0   19   323  unsuccessful  \n",
       "8  ...  0.0  0.0  1.0  0.0  0.0  0.0  0.0   19   323    successful  \n",
       "9  ...  0.0  0.0  1.0  0.0  0.0  0.0  0.0   19   323    successful  \n",
       "\n",
       "[10 rows x 1894 columns]"
      ]
     },
     "execution_count": 123,
     "metadata": {},
     "output_type": "execute_result"
    }
   ],
   "source": [
    "pre2008Data.head(10)"
   ]
  },
  {
   "cell_type": "code",
   "execution_count": 164,
   "id": "f8dbc8d0-0c43-43f0-972e-445c5cd45ad0",
   "metadata": {
    "tags": []
   },
   "outputs": [],
   "source": [
    "onefeatName = 'yDay'\n",
    "trainX_1feat = np.array(pre2008Data[onefeatName]).reshape(-1,1)\n",
    "trainy_1feat = pre2008Data['Class'].apply(lambda x : 1 if x =='successful' else 0)\n",
    "testX_1feat = np.array(test2008[onefeatName]).reshape(-1,1)\n",
    "testy_1feat = test2008['Class'].apply(lambda x : 1 if x =='successful' else 0)"
   ]
  },
  {
   "cell_type": "code",
   "execution_count": 275,
   "id": "5d788e28-ff15-4352-b40d-0c40528e50f4",
   "metadata": {
    "tags": []
   },
   "outputs": [
    {
     "data": {
      "text/html": [
       "<style>#sk-container-id-21 {color: black;background-color: white;}#sk-container-id-21 pre{padding: 0;}#sk-container-id-21 div.sk-toggleable {background-color: white;}#sk-container-id-21 label.sk-toggleable__label {cursor: pointer;display: block;width: 100%;margin-bottom: 0;padding: 0.3em;box-sizing: border-box;text-align: center;}#sk-container-id-21 label.sk-toggleable__label-arrow:before {content: \"▸\";float: left;margin-right: 0.25em;color: #696969;}#sk-container-id-21 label.sk-toggleable__label-arrow:hover:before {color: black;}#sk-container-id-21 div.sk-estimator:hover label.sk-toggleable__label-arrow:before {color: black;}#sk-container-id-21 div.sk-toggleable__content {max-height: 0;max-width: 0;overflow: hidden;text-align: left;background-color: #f0f8ff;}#sk-container-id-21 div.sk-toggleable__content pre {margin: 0.2em;color: black;border-radius: 0.25em;background-color: #f0f8ff;}#sk-container-id-21 input.sk-toggleable__control:checked~div.sk-toggleable__content {max-height: 200px;max-width: 100%;overflow: auto;}#sk-container-id-21 input.sk-toggleable__control:checked~label.sk-toggleable__label-arrow:before {content: \"▾\";}#sk-container-id-21 div.sk-estimator input.sk-toggleable__control:checked~label.sk-toggleable__label {background-color: #d4ebff;}#sk-container-id-21 div.sk-label input.sk-toggleable__control:checked~label.sk-toggleable__label {background-color: #d4ebff;}#sk-container-id-21 input.sk-hidden--visually {border: 0;clip: rect(1px 1px 1px 1px);clip: rect(1px, 1px, 1px, 1px);height: 1px;margin: -1px;overflow: hidden;padding: 0;position: absolute;width: 1px;}#sk-container-id-21 div.sk-estimator {font-family: monospace;background-color: #f0f8ff;border: 1px dotted black;border-radius: 0.25em;box-sizing: border-box;margin-bottom: 0.5em;}#sk-container-id-21 div.sk-estimator:hover {background-color: #d4ebff;}#sk-container-id-21 div.sk-parallel-item::after {content: \"\";width: 100%;border-bottom: 1px solid gray;flex-grow: 1;}#sk-container-id-21 div.sk-label:hover label.sk-toggleable__label {background-color: #d4ebff;}#sk-container-id-21 div.sk-serial::before {content: \"\";position: absolute;border-left: 1px solid gray;box-sizing: border-box;top: 0;bottom: 0;left: 50%;z-index: 0;}#sk-container-id-21 div.sk-serial {display: flex;flex-direction: column;align-items: center;background-color: white;padding-right: 0.2em;padding-left: 0.2em;position: relative;}#sk-container-id-21 div.sk-item {position: relative;z-index: 1;}#sk-container-id-21 div.sk-parallel {display: flex;align-items: stretch;justify-content: center;background-color: white;position: relative;}#sk-container-id-21 div.sk-item::before, #sk-container-id-21 div.sk-parallel-item::before {content: \"\";position: absolute;border-left: 1px solid gray;box-sizing: border-box;top: 0;bottom: 0;left: 50%;z-index: -1;}#sk-container-id-21 div.sk-parallel-item {display: flex;flex-direction: column;z-index: 1;position: relative;background-color: white;}#sk-container-id-21 div.sk-parallel-item:first-child::after {align-self: flex-end;width: 50%;}#sk-container-id-21 div.sk-parallel-item:last-child::after {align-self: flex-start;width: 50%;}#sk-container-id-21 div.sk-parallel-item:only-child::after {width: 0;}#sk-container-id-21 div.sk-dashed-wrapped {border: 1px dashed gray;margin: 0 0.4em 0.5em 0.4em;box-sizing: border-box;padding-bottom: 0.4em;background-color: white;}#sk-container-id-21 div.sk-label label {font-family: monospace;font-weight: bold;display: inline-block;line-height: 1.2em;}#sk-container-id-21 div.sk-label-container {text-align: center;}#sk-container-id-21 div.sk-container {/* jupyter's `normalize.less` sets `[hidden] { display: none; }` but bootstrap.min.css set `[hidden] { display: none !important; }` so we also need the `!important` here to be able to override the default hidden behavior on the sphinx rendered scikit-learn.org. See: https://github.com/scikit-learn/scikit-learn/issues/21755 */display: inline-block !important;position: relative;}#sk-container-id-21 div.sk-text-repr-fallback {display: none;}</style><div id=\"sk-container-id-21\" class=\"sk-top-container\"><div class=\"sk-text-repr-fallback\"><pre>LogisticRegression()</pre><b>In a Jupyter environment, please rerun this cell to show the HTML representation or trust the notebook. <br />On GitHub, the HTML representation is unable to render, please try loading this page with nbviewer.org.</b></div><div class=\"sk-container\" hidden><div class=\"sk-item\"><div class=\"sk-estimator sk-toggleable\"><input class=\"sk-toggleable__control sk-hidden--visually\" id=\"sk-estimator-id-23\" type=\"checkbox\" checked><label for=\"sk-estimator-id-23\" class=\"sk-toggleable__label sk-toggleable__label-arrow\">LogisticRegression</label><div class=\"sk-toggleable__content\"><pre>LogisticRegression()</pre></div></div></div></div></div>"
      ],
      "text/plain": [
       "LogisticRegression()"
      ]
     },
     "execution_count": 275,
     "metadata": {},
     "output_type": "execute_result"
    }
   ],
   "source": [
    "modelFit= linear_model.LogisticRegression()\n",
    "modelFit.fit(trainX_1feat, trainy_1feat)"
   ]
  },
  {
   "cell_type": "code",
   "execution_count": 276,
   "id": "49a99efb-473c-4e01-a76c-4591d1c84cf0",
   "metadata": {
    "tags": []
   },
   "outputs": [
    {
     "data": {
      "text/plain": [
       "(-0.004238095577989463, 0.9193353121819308)"
      ]
     },
     "execution_count": 276,
     "metadata": {},
     "output_type": "execute_result"
    }
   ],
   "source": [
    "lin_a = modelFit.coef_[0][0]\n",
    "lin_b = modelFit.intercept_[0]\n",
    "\n",
    "lin_a, lin_b"
   ]
  },
  {
   "cell_type": "code",
   "execution_count": 277,
   "id": "ccb5a26f-53fb-4774-8017-690b066acc35",
   "metadata": {
    "tags": []
   },
   "outputs": [
    {
     "data": {
      "text/html": [
       "<style>#sk-container-id-22 {color: black;background-color: white;}#sk-container-id-22 pre{padding: 0;}#sk-container-id-22 div.sk-toggleable {background-color: white;}#sk-container-id-22 label.sk-toggleable__label {cursor: pointer;display: block;width: 100%;margin-bottom: 0;padding: 0.3em;box-sizing: border-box;text-align: center;}#sk-container-id-22 label.sk-toggleable__label-arrow:before {content: \"▸\";float: left;margin-right: 0.25em;color: #696969;}#sk-container-id-22 label.sk-toggleable__label-arrow:hover:before {color: black;}#sk-container-id-22 div.sk-estimator:hover label.sk-toggleable__label-arrow:before {color: black;}#sk-container-id-22 div.sk-toggleable__content {max-height: 0;max-width: 0;overflow: hidden;text-align: left;background-color: #f0f8ff;}#sk-container-id-22 div.sk-toggleable__content pre {margin: 0.2em;color: black;border-radius: 0.25em;background-color: #f0f8ff;}#sk-container-id-22 input.sk-toggleable__control:checked~div.sk-toggleable__content {max-height: 200px;max-width: 100%;overflow: auto;}#sk-container-id-22 input.sk-toggleable__control:checked~label.sk-toggleable__label-arrow:before {content: \"▾\";}#sk-container-id-22 div.sk-estimator input.sk-toggleable__control:checked~label.sk-toggleable__label {background-color: #d4ebff;}#sk-container-id-22 div.sk-label input.sk-toggleable__control:checked~label.sk-toggleable__label {background-color: #d4ebff;}#sk-container-id-22 input.sk-hidden--visually {border: 0;clip: rect(1px 1px 1px 1px);clip: rect(1px, 1px, 1px, 1px);height: 1px;margin: -1px;overflow: hidden;padding: 0;position: absolute;width: 1px;}#sk-container-id-22 div.sk-estimator {font-family: monospace;background-color: #f0f8ff;border: 1px dotted black;border-radius: 0.25em;box-sizing: border-box;margin-bottom: 0.5em;}#sk-container-id-22 div.sk-estimator:hover {background-color: #d4ebff;}#sk-container-id-22 div.sk-parallel-item::after {content: \"\";width: 100%;border-bottom: 1px solid gray;flex-grow: 1;}#sk-container-id-22 div.sk-label:hover label.sk-toggleable__label {background-color: #d4ebff;}#sk-container-id-22 div.sk-serial::before {content: \"\";position: absolute;border-left: 1px solid gray;box-sizing: border-box;top: 0;bottom: 0;left: 50%;z-index: 0;}#sk-container-id-22 div.sk-serial {display: flex;flex-direction: column;align-items: center;background-color: white;padding-right: 0.2em;padding-left: 0.2em;position: relative;}#sk-container-id-22 div.sk-item {position: relative;z-index: 1;}#sk-container-id-22 div.sk-parallel {display: flex;align-items: stretch;justify-content: center;background-color: white;position: relative;}#sk-container-id-22 div.sk-item::before, #sk-container-id-22 div.sk-parallel-item::before {content: \"\";position: absolute;border-left: 1px solid gray;box-sizing: border-box;top: 0;bottom: 0;left: 50%;z-index: -1;}#sk-container-id-22 div.sk-parallel-item {display: flex;flex-direction: column;z-index: 1;position: relative;background-color: white;}#sk-container-id-22 div.sk-parallel-item:first-child::after {align-self: flex-end;width: 50%;}#sk-container-id-22 div.sk-parallel-item:last-child::after {align-self: flex-start;width: 50%;}#sk-container-id-22 div.sk-parallel-item:only-child::after {width: 0;}#sk-container-id-22 div.sk-dashed-wrapped {border: 1px dashed gray;margin: 0 0.4em 0.5em 0.4em;box-sizing: border-box;padding-bottom: 0.4em;background-color: white;}#sk-container-id-22 div.sk-label label {font-family: monospace;font-weight: bold;display: inline-block;line-height: 1.2em;}#sk-container-id-22 div.sk-label-container {text-align: center;}#sk-container-id-22 div.sk-container {/* jupyter's `normalize.less` sets `[hidden] { display: none; }` but bootstrap.min.css set `[hidden] { display: none !important; }` so we also need the `!important` here to be able to override the default hidden behavior on the sphinx rendered scikit-learn.org. See: https://github.com/scikit-learn/scikit-learn/issues/21755 */display: inline-block !important;position: relative;}#sk-container-id-22 div.sk-text-repr-fallback {display: none;}</style><div id=\"sk-container-id-22\" class=\"sk-top-container\"><div class=\"sk-text-repr-fallback\"><pre>LogisticRegression()</pre><b>In a Jupyter environment, please rerun this cell to show the HTML representation or trust the notebook. <br />On GitHub, the HTML representation is unable to render, please try loading this page with nbviewer.org.</b></div><div class=\"sk-container\" hidden><div class=\"sk-item\"><div class=\"sk-estimator sk-toggleable\"><input class=\"sk-toggleable__control sk-hidden--visually\" id=\"sk-estimator-id-24\" type=\"checkbox\" checked><label for=\"sk-estimator-id-24\" class=\"sk-toggleable__label sk-toggleable__label-arrow\">LogisticRegression</label><div class=\"sk-toggleable__content\"><pre>LogisticRegression()</pre></div></div></div></div></div>"
      ],
      "text/plain": [
       "LogisticRegression()"
      ]
     },
     "execution_count": 277,
     "metadata": {},
     "output_type": "execute_result"
    }
   ],
   "source": [
    "poly = PolynomialFeatures(degree = 2, interaction_only=False, include_bias=False)\n",
    "X_poly = poly.fit_transform(trainX_1feat)\n",
    "\n",
    "daySquareModel = linear_model.LogisticRegression()\n",
    "daySquareModel.fit(X_poly, trainy_1feat)"
   ]
  },
  {
   "cell_type": "code",
   "execution_count": 179,
   "id": "03b794b9-5cfe-4986-9b39-00a4acd7646f",
   "metadata": {
    "tags": []
   },
   "outputs": [
    {
     "name": "stdout",
     "output_type": "stream",
     "text": [
      "Report of LogisticRegression:\n",
      "              precision    recall  f1-score   support\n",
      "\n",
      "           0  0.5891643 0.7900000 0.6749592      3400\n",
      "           1  0.6557377 0.4206619 0.5125306      3233\n",
      "\n",
      "    accuracy                      0.6099804      6633\n",
      "   macro avg  0.6224510 0.6053310 0.5937449      6633\n",
      "weighted avg  0.6216129 0.6099804 0.5957896      6633\n",
      "\n",
      "The area under the ROC curve is 0.588622477756955\n"
     ]
    },
    {
     "data": {
      "image/png": "[encoded data removed]",
      "text/plain": [
       "<Figure size 1000x400 with 3 Axes>"
      ]
     },
     "metadata": {},
     "output_type": "display_data"
    }
   ],
   "source": [
    "modelPerf(modelFit,trainX_1feat, trainy_1feat)"
   ]
  },
  {
   "cell_type": "code",
   "execution_count": 180,
   "id": "61a57557-2b4b-430a-b73c-508a5ca425b2",
   "metadata": {
    "tags": []
   },
   "outputs": [
    {
     "name": "stdout",
     "output_type": "stream",
     "text": [
      "Report of LogisticRegression:\n",
      "              precision    recall  f1-score   support\n",
      "\n",
      "           0  0.5125886 1.0000000 0.6777634      3400\n",
      "           1  0.0000000 0.0000000 0.0000000      3233\n",
      "\n",
      "    accuracy                      0.5125886      6633\n",
      "   macro avg  0.2562943 0.5000000 0.3388817      6633\n",
      "weighted avg  0.2627470 0.5125886 0.3474138      6633\n",
      "\n",
      "The area under the ROC curve is 0.588622477756955\n"
     ]
    },
    {
     "name": "stderr",
     "output_type": "stream",
     "text": [
      "/Users/chenxu/miniconda3/lib/python3.10/site-packages/sklearn/metrics/_classification.py:1344: UndefinedMetricWarning: Precision and F-score are ill-defined and being set to 0.0 in labels with no predicted samples. Use `zero_division` parameter to control this behavior.\n",
      "  _warn_prf(average, modifier, msg_start, len(result))\n",
      "/Users/chenxu/miniconda3/lib/python3.10/site-packages/sklearn/metrics/_classification.py:1344: UndefinedMetricWarning: Precision and F-score are ill-defined and being set to 0.0 in labels with no predicted samples. Use `zero_division` parameter to control this behavior.\n",
      "  _warn_prf(average, modifier, msg_start, len(result))\n",
      "/Users/chenxu/miniconda3/lib/python3.10/site-packages/sklearn/metrics/_classification.py:1344: UndefinedMetricWarning: Precision and F-score are ill-defined and being set to 0.0 in labels with no predicted samples. Use `zero_division` parameter to control this behavior.\n",
      "  _warn_prf(average, modifier, msg_start, len(result))\n"
     ]
    },
    {
     "data": {
      "image/png": "[encoded data removed]",
      "text/plain": [
       "<Figure size 1000x400 with 3 Axes>"
      ]
     },
     "metadata": {},
     "output_type": "display_data"
    }
   ],
   "source": [
    "modelPerf(daySquareModel,X_poly,trainy_1feat)"
   ]
  },
  {
   "cell_type": "code",
   "execution_count": 238,
   "id": "6171db92-a8a2-42f2-be6b-5a726b8e81ba",
   "metadata": {
    "tags": []
   },
   "outputs": [],
   "source": [
    "df1=pd.DataFrame({'yDay':trainX_1feat.ravel(),'output':trainy_1feat})\n",
    "df1['dayBin'] = pd.cut(df1.yDay, list(range(1,366,5)),right=False)\n",
    "df2 = df1.groupby('dayBin').agg({'output':'mean'}).reset_index()\n",
    "df2['leftPt'] = df2['dayBin'].apply(lambda x: x.left)"
   ]
  },
  {
   "cell_type": "code",
   "execution_count": 278,
   "id": "9e10e600-29f9-4698-bcc7-bff63a7f52fd",
   "metadata": {
    "tags": []
   },
   "outputs": [
    {
     "name": "stdout",
     "output_type": "stream",
     "text": [
      "-1.081221761847889e-08 -2.782327943012534e-06 3.7455964688809855e-11\n"
     ]
    }
   ],
   "source": [
    "sqc1, sqc2 = daySquareModel.coef_[0]\n",
    "sq_b = daySquareModel.intercept_[0]\n",
    "print(sqc1, sqc2, sq_b)  \n",
    "sq_b, sqc1, sqc2 = (1.881341, -0.018622,0.000038)"
   ]
  },
  {
   "cell_type": "code",
   "execution_count": 281,
   "id": "c3e541e5-e2ff-4951-84b5-9841d6c6d9f7",
   "metadata": {
    "tags": []
   },
   "outputs": [
    {
     "data": {
      "image/png": "[encoded data removed]",
      "text/plain": [
       "<Figure size 640x480 with 1 Axes>"
      ]
     },
     "metadata": {},
     "output_type": "display_data"
    }
   ],
   "source": [
    "dx = np.linspace(1,356,72)\n",
    "dy = 1/(1+np.exp(-(lin_b+lin_a*dx)))\n",
    "dz = 1/(1+np.exp(-(sq_b +sqc1*dx +sqc2*dx*dx)))\n",
    "\n",
    "ax1 = df2.plot.scatter(x = 'leftPt', y = 'output',grid = False, xlabel = 'Day', ylabel = 'Probability of A Successful Grant')\n",
    "ax1.plot(dx,dy, c='red', label = 'Linear')\n",
    "ax1.plot(dx,dz, c='green', label = 'Quadratic')\n",
    "_ = ax1.legend()"
   ]
  },
  {
   "cell_type": "code",
   "execution_count": 309,
   "id": "923d1ef5-d3a7-44a9-8abf-387d73e2978d",
   "metadata": {
    "tags": []
   },
   "outputs": [],
   "source": [
    "trainX_reduced = pre2008Data[reducedSet]\n",
    "trainX_reduced['yDay2'] = trainX_reduced['yDay']**2\n",
    "trainy_reduced = pre2008Data['Class'].apply(lambda x : 1 if x =='successful' else 0)\n",
    "testX_reduced = test2008[reducedSet]\n",
    "testX_reduced['yDay2'] = testX_reduced['yDay']**2\n",
    "testy_reduced = test2008['Class'].apply(lambda x : 1 if x =='successful' else 0)\n",
    "\n",
    "indx = pre2008Data['CI.PhD'].notnull()\n",
    "trainX_reduced = trainX_reduced[indx]\n",
    "trainy_reduced = trainy_reduced[indx]"
   ]
  },
  {
   "cell_type": "code",
   "execution_count": 310,
   "id": "b5dc1531-89e8-4df5-9e8e-49cfd0ac1e34",
   "metadata": {
    "tags": []
   },
   "outputs": [
    {
     "name": "stderr",
     "output_type": "stream",
     "text": [
      "/Users/chenxu/miniconda3/lib/python3.10/site-packages/sklearn/linear_model/_logistic.py:458: ConvergenceWarning: lbfgs failed to converge (status=1):\n",
      "STOP: TOTAL NO. of ITERATIONS REACHED LIMIT.\n",
      "\n",
      "Increase the number of iterations (max_iter) or scale the data as shown in:\n",
      "    https://scikit-learn.org/stable/modules/preprocessing.html\n",
      "Please also refer to the documentation for alternative solver options:\n",
      "    https://scikit-learn.org/stable/modules/linear_model.html#logistic-regression\n",
      "  n_iter_i = _check_optimize_result(\n"
     ]
    },
    {
     "data": {
      "text/html": [
       "<style>#sk-container-id-23 {color: black;background-color: white;}#sk-container-id-23 pre{padding: 0;}#sk-container-id-23 div.sk-toggleable {background-color: white;}#sk-container-id-23 label.sk-toggleable__label {cursor: pointer;display: block;width: 100%;margin-bottom: 0;padding: 0.3em;box-sizing: border-box;text-align: center;}#sk-container-id-23 label.sk-toggleable__label-arrow:before {content: \"▸\";float: left;margin-right: 0.25em;color: #696969;}#sk-container-id-23 label.sk-toggleable__label-arrow:hover:before {color: black;}#sk-container-id-23 div.sk-estimator:hover label.sk-toggleable__label-arrow:before {color: black;}#sk-container-id-23 div.sk-toggleable__content {max-height: 0;max-width: 0;overflow: hidden;text-align: left;background-color: #f0f8ff;}#sk-container-id-23 div.sk-toggleable__content pre {margin: 0.2em;color: black;border-radius: 0.25em;background-color: #f0f8ff;}#sk-container-id-23 input.sk-toggleable__control:checked~div.sk-toggleable__content {max-height: 200px;max-width: 100%;overflow: auto;}#sk-container-id-23 input.sk-toggleable__control:checked~label.sk-toggleable__label-arrow:before {content: \"▾\";}#sk-container-id-23 div.sk-estimator input.sk-toggleable__control:checked~label.sk-toggleable__label {background-color: #d4ebff;}#sk-container-id-23 div.sk-label input.sk-toggleable__control:checked~label.sk-toggleable__label {background-color: #d4ebff;}#sk-container-id-23 input.sk-hidden--visually {border: 0;clip: rect(1px 1px 1px 1px);clip: rect(1px, 1px, 1px, 1px);height: 1px;margin: -1px;overflow: hidden;padding: 0;position: absolute;width: 1px;}#sk-container-id-23 div.sk-estimator {font-family: monospace;background-color: #f0f8ff;border: 1px dotted black;border-radius: 0.25em;box-sizing: border-box;margin-bottom: 0.5em;}#sk-container-id-23 div.sk-estimator:hover {background-color: #d4ebff;}#sk-container-id-23 div.sk-parallel-item::after {content: \"\";width: 100%;border-bottom: 1px solid gray;flex-grow: 1;}#sk-container-id-23 div.sk-label:hover label.sk-toggleable__label {background-color: #d4ebff;}#sk-container-id-23 div.sk-serial::before {content: \"\";position: absolute;border-left: 1px solid gray;box-sizing: border-box;top: 0;bottom: 0;left: 50%;z-index: 0;}#sk-container-id-23 div.sk-serial {display: flex;flex-direction: column;align-items: center;background-color: white;padding-right: 0.2em;padding-left: 0.2em;position: relative;}#sk-container-id-23 div.sk-item {position: relative;z-index: 1;}#sk-container-id-23 div.sk-parallel {display: flex;align-items: stretch;justify-content: center;background-color: white;position: relative;}#sk-container-id-23 div.sk-item::before, #sk-container-id-23 div.sk-parallel-item::before {content: \"\";position: absolute;border-left: 1px solid gray;box-sizing: border-box;top: 0;bottom: 0;left: 50%;z-index: -1;}#sk-container-id-23 div.sk-parallel-item {display: flex;flex-direction: column;z-index: 1;position: relative;background-color: white;}#sk-container-id-23 div.sk-parallel-item:first-child::after {align-self: flex-end;width: 50%;}#sk-container-id-23 div.sk-parallel-item:last-child::after {align-self: flex-start;width: 50%;}#sk-container-id-23 div.sk-parallel-item:only-child::after {width: 0;}#sk-container-id-23 div.sk-dashed-wrapped {border: 1px dashed gray;margin: 0 0.4em 0.5em 0.4em;box-sizing: border-box;padding-bottom: 0.4em;background-color: white;}#sk-container-id-23 div.sk-label label {font-family: monospace;font-weight: bold;display: inline-block;line-height: 1.2em;}#sk-container-id-23 div.sk-label-container {text-align: center;}#sk-container-id-23 div.sk-container {/* jupyter's `normalize.less` sets `[hidden] { display: none; }` but bootstrap.min.css set `[hidden] { display: none !important; }` so we also need the `!important` here to be able to override the default hidden behavior on the sphinx rendered scikit-learn.org. See: https://github.com/scikit-learn/scikit-learn/issues/21755 */display: inline-block !important;position: relative;}#sk-container-id-23 div.sk-text-repr-fallback {display: none;}</style><div id=\"sk-container-id-23\" class=\"sk-top-container\"><div class=\"sk-text-repr-fallback\"><pre>LogisticRegression()</pre><b>In a Jupyter environment, please rerun this cell to show the HTML representation or trust the notebook. <br />On GitHub, the HTML representation is unable to render, please try loading this page with nbviewer.org.</b></div><div class=\"sk-container\" hidden><div class=\"sk-item\"><div class=\"sk-estimator sk-toggleable\"><input class=\"sk-toggleable__control sk-hidden--visually\" id=\"sk-estimator-id-25\" type=\"checkbox\" checked><label for=\"sk-estimator-id-25\" class=\"sk-toggleable__label sk-toggleable__label-arrow\">LogisticRegression</label><div class=\"sk-toggleable__content\"><pre>LogisticRegression()</pre></div></div></div></div></div>"
      ],
      "text/plain": [
       "LogisticRegression()"
      ]
     },
     "execution_count": 310,
     "metadata": {},
     "output_type": "execute_result"
    }
   ],
   "source": [
    "lrReduced= linear_model.LogisticRegression()\n",
    "lrReduced.fit(trainX_reduced, trainy_reduced)"
   ]
  },
  {
   "cell_type": "code",
   "execution_count": 311,
   "id": "eb23b8e9-2c24-4c0e-a7b8-16052076ff1c",
   "metadata": {
    "tags": []
   },
   "outputs": [
    {
     "name": "stdout",
     "output_type": "stream",
     "text": [
      "Report of LogisticRegression:\n",
      "              precision    recall  f1-score   support\n",
      "\n",
      "           0  0.7608696 0.7129323 0.7361213      2111\n",
      "           1  0.7473947 0.7912621 0.7687031      2266\n",
      "\n",
      "    accuracy                      0.7534841      4377\n",
      "   macro avg  0.7541322 0.7520972 0.7524122      4377\n",
      "weighted avg  0.7538936 0.7534841 0.7529891      4377\n",
      "\n",
      "The area under the ROC curve is 0.7893221443763448\n"
     ]
    },
    {
     "data": {
      "image/png": "[encoded data removed]",
      "text/plain": [
       "<Figure size 1000x400 with 3 Axes>"
      ]
     },
     "metadata": {},
     "output_type": "display_data"
    }
   ],
   "source": [
    "modelPerf(lrReduced, trainX_reduced, trainy_reduced)"
   ]
  },
  {
   "cell_type": "code",
   "execution_count": null,
   "id": "d25ebb4a-249c-4542-bdb0-09d7ab0ba6e5",
   "metadata": {},
   "outputs": [],
   "source": []
  }
 ],
 "metadata": {
  "kernelspec": {
   "display_name": "Python 3 (ipykernel)",
   "language": "python",
   "name": "python3"
  },
  "language_info": {
   "codemirror_mode": {
    "name": "ipython",
    "version": 3
   },
   "file_extension": ".py",
   "mimetype": "text/x-python",
   "name": "python",
   "nbconvert_exporter": "python",
   "pygments_lexer": "ipython3",
   "version": "3.10.10"
  }
 },
 "nbformat": 4,
 "nbformat_minor": 5
}
