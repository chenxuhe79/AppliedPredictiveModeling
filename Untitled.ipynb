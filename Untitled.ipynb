{
 "cells": [
  {
   "cell_type": "markdown",
   "id": "8b72405f-e4f0-46d2-95bf-f0fcb9e355b3",
   "metadata": {},
   "source": [
    "# Chapter 13: Nonlinear Classification Models"
   ]
  },
  {
   "cell_type": "code",
   "execution_count": 2,
   "id": "fd053ffb-5b5e-4f44-b0a0-3bcf2fb1ff79",
   "metadata": {
    "tags": []
   },
   "outputs": [
    {
     "data": {
      "text/plain": [
       "<Figure size 640x480 with 0 Axes>"
      ]
     },
     "metadata": {},
     "output_type": "display_data"
    }
   ],
   "source": [
    "from rpy2 import robjects\n",
    "from rpy2.robjects.packages import importr, data\n",
    "import os, warnings\n",
    "import pyreadr\n",
    "import pandas as pd\n",
    "import numpy as np\n",
    "import matplotlib.pyplot as plt\n",
    "import seaborn as sns\n",
    "from datetime import datetime\n",
    "\n",
    "plt.rcParams['axes.grid'] = True\n",
    "plt.gray()\n",
    "\n",
    "%matplotlib inline\n",
    "pd.set_option('mode.chained_assignment',None)\n",
    "\n",
    "warnings.filterwarnings(\"ignore\")"
   ]
  },
  {
   "cell_type": "code",
   "execution_count": 3,
   "id": "336efd0b-6a9a-46de-8ac4-4a4723fe489b",
   "metadata": {
    "tags": []
   },
   "outputs": [],
   "source": [
    "base = importr('base')\n",
    "set_seed = robjects.r(\"set.seed\")\n",
    "APM = importr('AppliedPredictiveModeling')"
   ]
  },
  {
   "cell_type": "markdown",
   "id": "8fcfc8da-34c1-41cf-a97a-29682e657df7",
   "metadata": {
    "tags": []
   },
   "source": [
    "## 0. Read Data"
   ]
  },
  {
   "cell_type": "code",
   "execution_count": 7,
   "id": "375308c4-2713-484e-8958-97aaa873cc93",
   "metadata": {},
   "outputs": [],
   "source": [
    "# year 2008 has 2075 records, pre 2008 has 6633 records\n",
    "# Training : pre2008 data + 1557 records in year 2008\n",
    "# Testing: 518 records in year 2008\n",
    "training = pd.read_csv('./grantdata_training.csv')\n",
    "testing = pd.read_csv('./grantdata_testing.csv')\n",
    "year2008Data = pd.read_csv('./grantdata_year2008Data.csv')\n",
    "\n",
    "# Full set and Reduced set of features\n",
    "fullSet = pd.read_csv(\"./fullset.csv\")['colName'].to_list()\n",
    "reducedSet = pd.read_csv(\"./reducedset.csv\")['colName'].to_list()"
   ]
  },
  {
   "cell_type": "code",
   "execution_count": 8,
   "id": "6104a056-67aa-46e9-8107-2e7c461702e8",
   "metadata": {
    "tags": []
   },
   "outputs": [
    {
     "name": "stdout",
     "output_type": "stream",
     "text": [
      "Full set has 1069 features, and reduced set has 255 features.\n",
      "<class 'pandas.core.frame.DataFrame'>\n",
      "RangeIndex: 8190 entries, 0 to 8189\n",
      "Columns: 1894 entries, numCI to Class\n",
      "dtypes: float64(1890), int64(3), object(1)\n",
      "memory usage: 118.3+ MB\n",
      "None\n",
      "<class 'pandas.core.frame.DataFrame'>\n",
      "RangeIndex: 518 entries, 0 to 517\n",
      "Columns: 1894 entries, numCI to Class\n",
      "dtypes: float64(1890), int64(3), object(1)\n",
      "memory usage: 7.5+ MB\n",
      "None\n",
      "<class 'pandas.core.frame.DataFrame'>\n",
      "RangeIndex: 2075 entries, 0 to 2074\n",
      "Columns: 1894 entries, numCI to Class\n",
      "dtypes: float64(1890), int64(3), object(1)\n",
      "memory usage: 30.0+ MB\n",
      "None\n"
     ]
    }
   ],
   "source": [
    "print(f\"Full set has {len(fullSet)} features, and reduced set has {len(reducedSet)} features.\") #1069,  255 changed Day to yDay\n",
    "print(training.info())\n",
    "print(testing.info())\n",
    "print(year2008Data.info())"
   ]
  },
  {
   "cell_type": "code",
   "execution_count": 9,
   "id": "e1c0ecbb-a4cd-4043-b8e2-792f134da698",
   "metadata": {
    "tags": []
   },
   "outputs": [],
   "source": [
    "trainData = training[~training.index.isin(year2008Data.index)]\n",
    "validData = training[training.index.isin(year2008Data.index)]\n",
    "fillNAcols = ['CI.PhD','DR.PhD','ECI.PhD','HV.PhD','PS.PhD','SR.PhD','EA.PhD','SCI.PhD','UNK.PhD']\n",
    "trainData[fillNAcols] = trainData[fillNAcols].fillna(0)\n",
    "validData[fillNAcols] = validData[fillNAcols].fillna(0)\n",
    "\n",
    "trainData['yDay2'] = trainData['yDay']**2\n",
    "validData['yDay2'] = validData['yDay']**2"
   ]
  },
  {
   "cell_type": "code",
   "execution_count": 10,
   "id": "8993d51d-8bec-4bf4-afef-8265bf19acf3",
   "metadata": {
    "tags": []
   },
   "outputs": [],
   "source": [
    "trainX0 = trainData.drop(columns = ['Class'])\n",
    "trainy = trainData['Class'].apply(lambda x : 1 if x =='successful' else 0)\n",
    "validX0 = validData.drop(columns = ['Class'])\n",
    "validy = validData['Class'].apply(lambda x : 1 if x =='successful' else 0)"
   ]
  },
  {
   "cell_type": "code",
   "execution_count": 11,
   "id": "ad11d7d2-0344-4568-9238-a7a747c96006",
   "metadata": {
    "tags": []
   },
   "outputs": [],
   "source": [
    "from sklearn import linear_model\n",
    "from sklearn.preprocessing import PolynomialFeatures, StandardScaler\n",
    "from sklearn.pipeline import Pipeline\n",
    "from sklearn.metrics import classification_report, confusion_matrix, ConfusionMatrixDisplay, roc_auc_score, roc_curve, RocCurveDisplay, get_scorer_names\n",
    "from sklearn.model_selection import GridSearchCV, ShuffleSplit, cross_val_score"
   ]
  },
  {
   "cell_type": "code",
   "execution_count": 12,
   "id": "dae856a5-bc01-4c7b-8e04-6984a4a5a484",
   "metadata": {
    "tags": []
   },
   "outputs": [],
   "source": [
    "cv = ShuffleSplit(n_splits = 4, test_size = 0.25, random_state=3)\n",
    "\n",
    "def modelPerf(model, X, y):\n",
    "    nl = '\\n'\n",
    "    y_true = y\n",
    "    y_pred = model.predict(X)\n",
    "    print(f\"Terms: 1 for positive case, and 0 for negative case. \\\n",
    "    {nl}  P - the number of real positive cases in the data \\\n",
    "    {nl}  TP - a test result that correctly indicates the presence of a condition \\\n",
    "    {nl}  FP - a test result which wrongly indicates that a condition is present \\\n",
    "    {nl}  N - the number of real negative cases in the data \\\n",
    "    {nl}  TN - a test result that correctly indicates the absence of a condition \\\n",
    "    {nl}  FN - a test result which wrongly indicates that a condition is absent \\\n",
    "    {nl}  Precision, positive predicitive value(PPV) - TP/(TP+FP) \\\n",
    "    {nl}  Reacll, sensitivity, true positive rate(TPR) - TP/P \\\n",
    "    {nl}  Specificity, selectivity, true negative rate(TNR) - TN/N \\\n",
    "    {nl}  Accuracy - (TP+TN)/(P+N)\")\n",
    "    print(f\"The confusion matrix \\\n",
    "    {nl}  TN | FP \\\n",
    "    {nl}  FN | TP\")\n",
    "    print(f\"Report of {model.__class__.__name__}:\")\n",
    "    print(classification_report(y_true, y_pred, digits = 7))\n",
    "    \n",
    "    f = plt.figure(figsize=(10,4))\n",
    "    ax1 = f.add_subplot(121)\n",
    "    cmdisp = ConfusionMatrixDisplay(confusion_matrix(y_true,y_pred), display_labels=model.classes_)\n",
    "    cmdisp.plot(ax = ax1)\n",
    "    \n",
    "    y_score = model.predict_proba(X)[:,1]\n",
    "    roc_area = roc_auc_score(y_true, y_score)\n",
    "    ax2 = f.add_subplot(122)\n",
    "    roc_disp = RocCurveDisplay.from_estimator(model, X, y, ax = ax2)\n",
    "    print(f\"The area under the ROC curve is {roc_area}\")"
   ]
  },
  {
   "cell_type": "code",
   "execution_count": null,
   "id": "f9ec752c-ccef-49d7-a18e-355eebb0f543",
   "metadata": {},
   "outputs": [],
   "source": []
  }
 ],
 "metadata": {
  "kernelspec": {
   "display_name": "Python 3 (ipykernel)",
   "language": "python",
   "name": "python3"
  },
  "language_info": {
   "codemirror_mode": {
    "name": "ipython",
    "version": 3
   },
   "file_extension": ".py",
   "mimetype": "text/x-python",
   "name": "python",
   "nbconvert_exporter": "python",
   "pygments_lexer": "ipython3",
   "version": "3.10.10"
  }
 },
 "nbformat": 4,
 "nbformat_minor": 5
}
